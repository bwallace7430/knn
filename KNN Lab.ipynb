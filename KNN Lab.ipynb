{
   "cells": [
      {
         "cell_type": "markdown",
         "metadata": {
            "id": "DVL7_bgmIAPR"
         },
         "source": [
            "# K-Nearest Neighbor Lab\n",
            "Read over the sklearn info on [nearest neighbor learners](https://scikit-learn.org/stable/modules/neighbors.html#nearest-neighbors-classification)\n",
            "\n",
            "\n"
         ]
      },
      {
         "cell_type": "code",
         "execution_count": 1,
         "metadata": {
            "id": "6ZbYjZZZ_yLV"
         },
         "outputs": [],
         "source": [
            "from sklearn.neighbors import KNeighborsClassifier, KNeighborsRegressor\n",
            "import numpy as np\n",
            "import pandas as pd\n",
            "from scipy.io import arff\n",
            "import matplotlib.pyplot as plt\n",
            "from sklearn.model_selection import train_test_split"
         ]
      },
      {
         "cell_type": "markdown",
         "metadata": {},
         "source": [
            "## 1 K-Nearest Neighbor (KNN) algorithm\n",
            "\n",
            "### 1.1 (15%) Basic KNN Classification\n",
            "\n",
            "Learn the [Glass data set](https://archive.ics.uci.edu/dataset/42/glass+identification) using [KNeighborsClassifier](https://scikit-learn.org/stable/modules/generated/sklearn.neighbors.KNeighborsClassifier.html#sklearn.neighbors.KNeighborsClassifier) with default parameters.\n",
            "- Randomly split your data into train/test.  Anytime we don't tell you specifics (such as what percentage is train vs test) choose your own reasonable values\n",
            "- Give typical train and test set accuracies after running with different random splits\n",
            "- Print the output probabilities for a test set (predict_proba)\n",
            "- Try it with different p values (Minkowskian exponent) and discuss any differences"
         ]
      },
      {
         "cell_type": "code",
         "execution_count": 2,
         "metadata": {},
         "outputs": [
            {
               "data": {
                  "text/html": [
                     "<table>\n",
                     "<thead>\n",
                     "<tr><th>Trial  </th><th style=\"text-align: right;\">  Training Accuracy</th><th style=\"text-align: right;\">  Test Accuracy</th><th style=\"text-align: right;\">  P_Value</th></tr>\n",
                     "</thead>\n",
                     "<tbody>\n",
                     "<tr><td>1      </td><td style=\"text-align: right;\">           0.994152</td><td style=\"text-align: right;\">       0.976744</td><td style=\"text-align: right;\">         </td></tr>\n",
                     "<tr><td>2      </td><td style=\"text-align: right;\">           0.988304</td><td style=\"text-align: right;\">       0.976744</td><td style=\"text-align: right;\">         </td></tr>\n",
                     "<tr><td>3      </td><td style=\"text-align: right;\">           0.994152</td><td style=\"text-align: right;\">       0.976744</td><td style=\"text-align: right;\">         </td></tr>\n",
                     "<tr><td>4      </td><td style=\"text-align: right;\">           0.982456</td><td style=\"text-align: right;\">       1       </td><td style=\"text-align: right;\">         </td></tr>\n",
                     "<tr><td>5      </td><td style=\"text-align: right;\">           0.994152</td><td style=\"text-align: right;\">       1       </td><td style=\"text-align: right;\">         </td></tr>\n",
                     "<tr><td>6      </td><td style=\"text-align: right;\">           0.994152</td><td style=\"text-align: right;\">       0.953488</td><td style=\"text-align: right;\">         </td></tr>\n",
                     "<tr><td>7      </td><td style=\"text-align: right;\">           0.982456</td><td style=\"text-align: right;\">       1       </td><td style=\"text-align: right;\">         </td></tr>\n",
                     "<tr><td>8      </td><td style=\"text-align: right;\">           0.988304</td><td style=\"text-align: right;\">       0.976744</td><td style=\"text-align: right;\">         </td></tr>\n",
                     "<tr><td>9      </td><td style=\"text-align: right;\">           0.988304</td><td style=\"text-align: right;\">       1       </td><td style=\"text-align: right;\">         </td></tr>\n",
                     "<tr><td>10     </td><td style=\"text-align: right;\">           0.994152</td><td style=\"text-align: right;\">       1       </td><td style=\"text-align: right;\">         </td></tr>\n",
                     "<tr><td>Average</td><td style=\"text-align: right;\">           0.990058</td><td style=\"text-align: right;\">       0.986047</td><td style=\"text-align: right;\">        1</td></tr>\n",
                     "</tbody>\n",
                     "</table>"
                  ],
                  "text/plain": [
                     "<IPython.core.display.HTML object>"
                  ]
               },
               "metadata": {},
               "output_type": "display_data"
            },
            {
               "name": "stdout",
               "output_type": "stream",
               "text": [
                  "Output probabilities for a test set: [[0.  1.  0.  0.  0.  0. ]\n",
                  " [0.  0.  0.  0.2 0.8 0. ]\n",
                  " [1.  0.  0.  0.  0.  0. ]\n",
                  " [0.  1.  0.  0.  0.  0. ]\n",
                  " [0.  0.  0.  0.  0.  1. ]\n",
                  " [0.  1.  0.  0.  0.  0. ]\n",
                  " [1.  0.  0.  0.  0.  0. ]\n",
                  " [0.  1.  0.  0.  0.  0. ]\n",
                  " [0.  0.  1.  0.  0.  0. ]\n",
                  " [1.  0.  0.  0.  0.  0. ]\n",
                  " [1.  0.  0.  0.  0.  0. ]\n",
                  " [0.  1.  0.  0.  0.  0. ]\n",
                  " [0.  0.  0.  0.  0.  1. ]\n",
                  " [1.  0.  0.  0.  0.  0. ]\n",
                  " [0.  1.  0.  0.  0.  0. ]\n",
                  " [1.  0.  0.  0.  0.  0. ]\n",
                  " [0.  1.  0.  0.  0.  0. ]\n",
                  " [0.  1.  0.  0.  0.  0. ]\n",
                  " [0.  0.  0.  0.  0.  1. ]\n",
                  " [0.  1.  0.  0.  0.  0. ]\n",
                  " [1.  0.  0.  0.  0.  0. ]\n",
                  " [0.  1.  0.  0.  0.  0. ]\n",
                  " [1.  0.  0.  0.  0.  0. ]\n",
                  " [0.  1.  0.  0.  0.  0. ]\n",
                  " [1.  0.  0.  0.  0.  0. ]\n",
                  " [0.  1.  0.  0.  0.  0. ]\n",
                  " [0.  1.  0.  0.  0.  0. ]\n",
                  " [0.  0.  0.  0.  1.  0. ]\n",
                  " [0.  0.  0.  0.  1.  0. ]\n",
                  " [0.  1.  0.  0.  0.  0. ]\n",
                  " [1.  0.  0.  0.  0.  0. ]\n",
                  " [1.  0.  0.  0.  0.  0. ]\n",
                  " [0.  1.  0.  0.  0.  0. ]\n",
                  " [0.  0.  0.  0.8 0.2 0. ]\n",
                  " [0.  1.  0.  0.  0.  0. ]\n",
                  " [0.  1.  0.  0.  0.  0. ]\n",
                  " [1.  0.  0.  0.  0.  0. ]\n",
                  " [1.  0.  0.  0.  0.  0. ]\n",
                  " [0.  0.  0.6 0.4 0.  0. ]\n",
                  " [0.  0.  0.  0.  0.  1. ]\n",
                  " [0.  0.  0.  0.  0.  1. ]\n",
                  " [0.  0.  0.  0.  0.  1. ]\n",
                  " [0.  1.  0.  0.  0.  0. ]]\n"
               ]
            },
            {
               "data": {
                  "text/html": [
                     "<table>\n",
                     "<thead>\n",
                     "<tr><th>Trial  </th><th style=\"text-align: right;\">  Training Accuracy</th><th style=\"text-align: right;\">  Test Accuracy</th><th style=\"text-align: right;\">  P_Value</th></tr>\n",
                     "</thead>\n",
                     "<tbody>\n",
                     "<tr><td>1      </td><td style=\"text-align: right;\">           0.994152</td><td style=\"text-align: right;\">       0.976744</td><td style=\"text-align: right;\">         </td></tr>\n",
                     "<tr><td>2      </td><td style=\"text-align: right;\">           0.994152</td><td style=\"text-align: right;\">       0.976744</td><td style=\"text-align: right;\">         </td></tr>\n",
                     "<tr><td>3      </td><td style=\"text-align: right;\">           0.988304</td><td style=\"text-align: right;\">       1       </td><td style=\"text-align: right;\">         </td></tr>\n",
                     "<tr><td>4      </td><td style=\"text-align: right;\">           0.982456</td><td style=\"text-align: right;\">       1       </td><td style=\"text-align: right;\">         </td></tr>\n",
                     "<tr><td>5      </td><td style=\"text-align: right;\">           0.982456</td><td style=\"text-align: right;\">       1       </td><td style=\"text-align: right;\">         </td></tr>\n",
                     "<tr><td>6      </td><td style=\"text-align: right;\">           0.988304</td><td style=\"text-align: right;\">       1       </td><td style=\"text-align: right;\">         </td></tr>\n",
                     "<tr><td>7      </td><td style=\"text-align: right;\">           0.988304</td><td style=\"text-align: right;\">       1       </td><td style=\"text-align: right;\">         </td></tr>\n",
                     "<tr><td>8      </td><td style=\"text-align: right;\">           0.988304</td><td style=\"text-align: right;\">       0.953488</td><td style=\"text-align: right;\">         </td></tr>\n",
                     "<tr><td>9      </td><td style=\"text-align: right;\">           0.988304</td><td style=\"text-align: right;\">       1       </td><td style=\"text-align: right;\">         </td></tr>\n",
                     "<tr><td>10     </td><td style=\"text-align: right;\">           0.988304</td><td style=\"text-align: right;\">       1       </td><td style=\"text-align: right;\">         </td></tr>\n",
                     "<tr><td>Average</td><td style=\"text-align: right;\">           0.988304</td><td style=\"text-align: right;\">       0.990698</td><td style=\"text-align: right;\">      1.2</td></tr>\n",
                     "</tbody>\n",
                     "</table>"
                  ],
                  "text/plain": [
                     "<IPython.core.display.HTML object>"
                  ]
               },
               "metadata": {},
               "output_type": "display_data"
            },
            {
               "name": "stdout",
               "output_type": "stream",
               "text": [
                  "Output probabilities for a test set: [[0.  1.  0.  0.  0.  0. ]\n",
                  " [0.  0.  0.  0.2 0.8 0. ]\n",
                  " [1.  0.  0.  0.  0.  0. ]\n",
                  " [0.  1.  0.  0.  0.  0. ]\n",
                  " [0.  0.  0.  0.  0.  1. ]\n",
                  " [0.  1.  0.  0.  0.  0. ]\n",
                  " [1.  0.  0.  0.  0.  0. ]\n",
                  " [0.  1.  0.  0.  0.  0. ]\n",
                  " [0.  0.  1.  0.  0.  0. ]\n",
                  " [1.  0.  0.  0.  0.  0. ]\n",
                  " [1.  0.  0.  0.  0.  0. ]\n",
                  " [0.  1.  0.  0.  0.  0. ]\n",
                  " [0.  0.  0.  0.  0.  1. ]\n",
                  " [1.  0.  0.  0.  0.  0. ]\n",
                  " [0.  1.  0.  0.  0.  0. ]\n",
                  " [1.  0.  0.  0.  0.  0. ]\n",
                  " [0.  1.  0.  0.  0.  0. ]\n",
                  " [0.  1.  0.  0.  0.  0. ]\n",
                  " [0.  0.  0.  0.  0.  1. ]\n",
                  " [0.  1.  0.  0.  0.  0. ]\n",
                  " [1.  0.  0.  0.  0.  0. ]\n",
                  " [0.  1.  0.  0.  0.  0. ]\n",
                  " [1.  0.  0.  0.  0.  0. ]\n",
                  " [0.  1.  0.  0.  0.  0. ]\n",
                  " [1.  0.  0.  0.  0.  0. ]\n",
                  " [0.  1.  0.  0.  0.  0. ]\n",
                  " [0.  1.  0.  0.  0.  0. ]\n",
                  " [0.  0.  0.  0.  1.  0. ]\n",
                  " [0.  0.  0.  0.  1.  0. ]\n",
                  " [0.  1.  0.  0.  0.  0. ]\n",
                  " [1.  0.  0.  0.  0.  0. ]\n",
                  " [1.  0.  0.  0.  0.  0. ]\n",
                  " [0.  1.  0.  0.  0.  0. ]\n",
                  " [0.  0.  0.  0.6 0.4 0. ]\n",
                  " [0.  1.  0.  0.  0.  0. ]\n",
                  " [0.  1.  0.  0.  0.  0. ]\n",
                  " [1.  0.  0.  0.  0.  0. ]\n",
                  " [1.  0.  0.  0.  0.  0. ]\n",
                  " [0.  0.  0.6 0.4 0.  0. ]\n",
                  " [0.  0.  0.  0.  0.  1. ]\n",
                  " [0.  0.  0.  0.  0.  1. ]\n",
                  " [0.  0.  0.  0.  0.  1. ]\n",
                  " [0.  1.  0.  0.  0.  0. ]]\n"
               ]
            },
            {
               "data": {
                  "text/html": [
                     "<table>\n",
                     "<thead>\n",
                     "<tr><th>Trial  </th><th style=\"text-align: right;\">  Training Accuracy</th><th style=\"text-align: right;\">  Test Accuracy</th><th style=\"text-align: right;\">  P_Value</th></tr>\n",
                     "</thead>\n",
                     "<tbody>\n",
                     "<tr><td>1      </td><td style=\"text-align: right;\">           0.988304</td><td style=\"text-align: right;\">       0.953488</td><td style=\"text-align: right;\">         </td></tr>\n",
                     "<tr><td>2      </td><td style=\"text-align: right;\">           0.994152</td><td style=\"text-align: right;\">       0.976744</td><td style=\"text-align: right;\">         </td></tr>\n",
                     "<tr><td>3      </td><td style=\"text-align: right;\">           0.982456</td><td style=\"text-align: right;\">       0.953488</td><td style=\"text-align: right;\">         </td></tr>\n",
                     "<tr><td>4      </td><td style=\"text-align: right;\">           0.982456</td><td style=\"text-align: right;\">       0.976744</td><td style=\"text-align: right;\">         </td></tr>\n",
                     "<tr><td>5      </td><td style=\"text-align: right;\">           0.994152</td><td style=\"text-align: right;\">       0.953488</td><td style=\"text-align: right;\">         </td></tr>\n",
                     "<tr><td>6      </td><td style=\"text-align: right;\">           0.988304</td><td style=\"text-align: right;\">       1       </td><td style=\"text-align: right;\">         </td></tr>\n",
                     "<tr><td>7      </td><td style=\"text-align: right;\">           0.988304</td><td style=\"text-align: right;\">       1       </td><td style=\"text-align: right;\">         </td></tr>\n",
                     "<tr><td>8      </td><td style=\"text-align: right;\">           0.994152</td><td style=\"text-align: right;\">       0.976744</td><td style=\"text-align: right;\">         </td></tr>\n",
                     "<tr><td>9      </td><td style=\"text-align: right;\">           0.994152</td><td style=\"text-align: right;\">       0.976744</td><td style=\"text-align: right;\">         </td></tr>\n",
                     "<tr><td>10     </td><td style=\"text-align: right;\">           0.988304</td><td style=\"text-align: right;\">       1       </td><td style=\"text-align: right;\">         </td></tr>\n",
                     "<tr><td>Average</td><td style=\"text-align: right;\">           0.989474</td><td style=\"text-align: right;\">       0.976744</td><td style=\"text-align: right;\">      1.4</td></tr>\n",
                     "</tbody>\n",
                     "</table>"
                  ],
                  "text/plain": [
                     "<IPython.core.display.HTML object>"
                  ]
               },
               "metadata": {},
               "output_type": "display_data"
            },
            {
               "name": "stdout",
               "output_type": "stream",
               "text": [
                  "Output probabilities for a test set: [[0.  1.  0.  0.  0.  0. ]\n",
                  " [0.  0.  0.  0.2 0.8 0. ]\n",
                  " [1.  0.  0.  0.  0.  0. ]\n",
                  " [0.  1.  0.  0.  0.  0. ]\n",
                  " [0.  0.  0.  0.  0.  1. ]\n",
                  " [0.  1.  0.  0.  0.  0. ]\n",
                  " [1.  0.  0.  0.  0.  0. ]\n",
                  " [0.  1.  0.  0.  0.  0. ]\n",
                  " [0.  0.  1.  0.  0.  0. ]\n",
                  " [1.  0.  0.  0.  0.  0. ]\n",
                  " [1.  0.  0.  0.  0.  0. ]\n",
                  " [0.  1.  0.  0.  0.  0. ]\n",
                  " [0.  0.  0.  0.  0.  1. ]\n",
                  " [1.  0.  0.  0.  0.  0. ]\n",
                  " [0.  1.  0.  0.  0.  0. ]\n",
                  " [1.  0.  0.  0.  0.  0. ]\n",
                  " [0.  1.  0.  0.  0.  0. ]\n",
                  " [0.  1.  0.  0.  0.  0. ]\n",
                  " [0.  0.  0.  0.  0.  1. ]\n",
                  " [0.  1.  0.  0.  0.  0. ]\n",
                  " [1.  0.  0.  0.  0.  0. ]\n",
                  " [0.  1.  0.  0.  0.  0. ]\n",
                  " [1.  0.  0.  0.  0.  0. ]\n",
                  " [0.  1.  0.  0.  0.  0. ]\n",
                  " [1.  0.  0.  0.  0.  0. ]\n",
                  " [0.  1.  0.  0.  0.  0. ]\n",
                  " [0.  1.  0.  0.  0.  0. ]\n",
                  " [0.  0.  0.  0.  1.  0. ]\n",
                  " [0.  0.  0.  0.  1.  0. ]\n",
                  " [0.  1.  0.  0.  0.  0. ]\n",
                  " [1.  0.  0.  0.  0.  0. ]\n",
                  " [1.  0.  0.  0.  0.  0. ]\n",
                  " [0.  1.  0.  0.  0.  0. ]\n",
                  " [0.  0.  0.  0.6 0.4 0. ]\n",
                  " [0.  1.  0.  0.  0.  0. ]\n",
                  " [0.  1.  0.  0.  0.  0. ]\n",
                  " [1.  0.  0.  0.  0.  0. ]\n",
                  " [1.  0.  0.  0.  0.  0. ]\n",
                  " [0.  0.  0.6 0.4 0.  0. ]\n",
                  " [0.  0.  0.  0.  0.  1. ]\n",
                  " [0.  0.  0.  0.  0.  1. ]\n",
                  " [0.  0.  0.  0.  0.  1. ]\n",
                  " [0.  1.  0.  0.  0.  0. ]]\n"
               ]
            },
            {
               "data": {
                  "text/html": [
                     "<table>\n",
                     "<thead>\n",
                     "<tr><th>Trial  </th><th style=\"text-align: right;\">  Training Accuracy</th><th style=\"text-align: right;\">  Test Accuracy</th><th style=\"text-align: right;\">  P_Value</th></tr>\n",
                     "</thead>\n",
                     "<tbody>\n",
                     "<tr><td>1      </td><td style=\"text-align: right;\">           1       </td><td style=\"text-align: right;\">       0.953488</td><td style=\"text-align: right;\">         </td></tr>\n",
                     "<tr><td>2      </td><td style=\"text-align: right;\">           0.988304</td><td style=\"text-align: right;\">       0.976744</td><td style=\"text-align: right;\">         </td></tr>\n",
                     "<tr><td>3      </td><td style=\"text-align: right;\">           0.988304</td><td style=\"text-align: right;\">       0.953488</td><td style=\"text-align: right;\">         </td></tr>\n",
                     "<tr><td>4      </td><td style=\"text-align: right;\">           0.988304</td><td style=\"text-align: right;\">       0.976744</td><td style=\"text-align: right;\">         </td></tr>\n",
                     "<tr><td>5      </td><td style=\"text-align: right;\">           0.994152</td><td style=\"text-align: right;\">       0.930233</td><td style=\"text-align: right;\">         </td></tr>\n",
                     "<tr><td>6      </td><td style=\"text-align: right;\">           0.988304</td><td style=\"text-align: right;\">       0.953488</td><td style=\"text-align: right;\">         </td></tr>\n",
                     "<tr><td>7      </td><td style=\"text-align: right;\">           0.994152</td><td style=\"text-align: right;\">       0.976744</td><td style=\"text-align: right;\">         </td></tr>\n",
                     "<tr><td>8      </td><td style=\"text-align: right;\">           0.988304</td><td style=\"text-align: right;\">       0.953488</td><td style=\"text-align: right;\">         </td></tr>\n",
                     "<tr><td>9      </td><td style=\"text-align: right;\">           0.988304</td><td style=\"text-align: right;\">       0.930233</td><td style=\"text-align: right;\">         </td></tr>\n",
                     "<tr><td>10     </td><td style=\"text-align: right;\">           1       </td><td style=\"text-align: right;\">       0.976744</td><td style=\"text-align: right;\">         </td></tr>\n",
                     "<tr><td>Average</td><td style=\"text-align: right;\">           0.991813</td><td style=\"text-align: right;\">       0.95814 </td><td style=\"text-align: right;\">      1.6</td></tr>\n",
                     "</tbody>\n",
                     "</table>"
                  ],
                  "text/plain": [
                     "<IPython.core.display.HTML object>"
                  ]
               },
               "metadata": {},
               "output_type": "display_data"
            },
            {
               "name": "stdout",
               "output_type": "stream",
               "text": [
                  "Output probabilities for a test set: [[0.  1.  0.  0.  0.  0. ]\n",
                  " [0.  0.  0.  0.2 0.8 0. ]\n",
                  " [1.  0.  0.  0.  0.  0. ]\n",
                  " [0.  1.  0.  0.  0.  0. ]\n",
                  " [0.  0.  0.  0.  0.  1. ]\n",
                  " [0.  1.  0.  0.  0.  0. ]\n",
                  " [1.  0.  0.  0.  0.  0. ]\n",
                  " [0.  1.  0.  0.  0.  0. ]\n",
                  " [0.  0.  1.  0.  0.  0. ]\n",
                  " [1.  0.  0.  0.  0.  0. ]\n",
                  " [1.  0.  0.  0.  0.  0. ]\n",
                  " [0.  1.  0.  0.  0.  0. ]\n",
                  " [0.  0.  0.  0.  0.  1. ]\n",
                  " [1.  0.  0.  0.  0.  0. ]\n",
                  " [0.  1.  0.  0.  0.  0. ]\n",
                  " [1.  0.  0.  0.  0.  0. ]\n",
                  " [0.  1.  0.  0.  0.  0. ]\n",
                  " [0.  1.  0.  0.  0.  0. ]\n",
                  " [0.  0.  0.  0.  0.  1. ]\n",
                  " [0.  1.  0.  0.  0.  0. ]\n",
                  " [1.  0.  0.  0.  0.  0. ]\n",
                  " [0.  1.  0.  0.  0.  0. ]\n",
                  " [1.  0.  0.  0.  0.  0. ]\n",
                  " [0.  1.  0.  0.  0.  0. ]\n",
                  " [1.  0.  0.  0.  0.  0. ]\n",
                  " [0.  1.  0.  0.  0.  0. ]\n",
                  " [0.  1.  0.  0.  0.  0. ]\n",
                  " [0.  0.  0.  0.  1.  0. ]\n",
                  " [0.  0.  0.  0.  1.  0. ]\n",
                  " [0.  1.  0.  0.  0.  0. ]\n",
                  " [1.  0.  0.  0.  0.  0. ]\n",
                  " [1.  0.  0.  0.  0.  0. ]\n",
                  " [0.  1.  0.  0.  0.  0. ]\n",
                  " [0.  0.  0.  0.6 0.4 0. ]\n",
                  " [0.  1.  0.  0.  0.  0. ]\n",
                  " [0.  1.  0.  0.  0.  0. ]\n",
                  " [1.  0.  0.  0.  0.  0. ]\n",
                  " [1.  0.  0.  0.  0.  0. ]\n",
                  " [0.  0.  0.8 0.2 0.  0. ]\n",
                  " [0.  0.  0.  0.  0.  1. ]\n",
                  " [0.  0.  0.  0.  0.  1. ]\n",
                  " [0.  0.  0.  0.  0.  1. ]\n",
                  " [0.  1.  0.  0.  0.  0. ]]\n"
               ]
            },
            {
               "data": {
                  "text/html": [
                     "<table>\n",
                     "<thead>\n",
                     "<tr><th>Trial  </th><th style=\"text-align: right;\">  Training Accuracy</th><th style=\"text-align: right;\">  Test Accuracy</th><th style=\"text-align: right;\">  P_Value</th></tr>\n",
                     "</thead>\n",
                     "<tbody>\n",
                     "<tr><td>1      </td><td style=\"text-align: right;\">           0.994152</td><td style=\"text-align: right;\">       1       </td><td style=\"text-align: right;\">         </td></tr>\n",
                     "<tr><td>2      </td><td style=\"text-align: right;\">           1       </td><td style=\"text-align: right;\">       0.953488</td><td style=\"text-align: right;\">         </td></tr>\n",
                     "<tr><td>3      </td><td style=\"text-align: right;\">           1       </td><td style=\"text-align: right;\">       0.930233</td><td style=\"text-align: right;\">         </td></tr>\n",
                     "<tr><td>4      </td><td style=\"text-align: right;\">           0.982456</td><td style=\"text-align: right;\">       1       </td><td style=\"text-align: right;\">         </td></tr>\n",
                     "<tr><td>5      </td><td style=\"text-align: right;\">           0.988304</td><td style=\"text-align: right;\">       0.953488</td><td style=\"text-align: right;\">         </td></tr>\n",
                     "<tr><td>6      </td><td style=\"text-align: right;\">           0.976608</td><td style=\"text-align: right;\">       1       </td><td style=\"text-align: right;\">         </td></tr>\n",
                     "<tr><td>7      </td><td style=\"text-align: right;\">           0.988304</td><td style=\"text-align: right;\">       0.953488</td><td style=\"text-align: right;\">         </td></tr>\n",
                     "<tr><td>8      </td><td style=\"text-align: right;\">           0.988304</td><td style=\"text-align: right;\">       0.953488</td><td style=\"text-align: right;\">         </td></tr>\n",
                     "<tr><td>9      </td><td style=\"text-align: right;\">           0.994152</td><td style=\"text-align: right;\">       0.976744</td><td style=\"text-align: right;\">         </td></tr>\n",
                     "<tr><td>10     </td><td style=\"text-align: right;\">           0.988304</td><td style=\"text-align: right;\">       0.976744</td><td style=\"text-align: right;\">         </td></tr>\n",
                     "<tr><td>Average</td><td style=\"text-align: right;\">           0.990058</td><td style=\"text-align: right;\">       0.969767</td><td style=\"text-align: right;\">      1.8</td></tr>\n",
                     "</tbody>\n",
                     "</table>"
                  ],
                  "text/plain": [
                     "<IPython.core.display.HTML object>"
                  ]
               },
               "metadata": {},
               "output_type": "display_data"
            },
            {
               "name": "stdout",
               "output_type": "stream",
               "text": [
                  "Output probabilities for a test set: [[0.  1.  0.  0.  0.  0. ]\n",
                  " [0.  0.  0.  0.4 0.6 0. ]\n",
                  " [1.  0.  0.  0.  0.  0. ]\n",
                  " [0.  1.  0.  0.  0.  0. ]\n",
                  " [0.  0.  0.  0.  0.  1. ]\n",
                  " [0.  1.  0.  0.  0.  0. ]\n",
                  " [1.  0.  0.  0.  0.  0. ]\n",
                  " [0.  1.  0.  0.  0.  0. ]\n",
                  " [0.  0.  1.  0.  0.  0. ]\n",
                  " [1.  0.  0.  0.  0.  0. ]\n",
                  " [1.  0.  0.  0.  0.  0. ]\n",
                  " [0.  1.  0.  0.  0.  0. ]\n",
                  " [0.  0.  0.  0.  0.  1. ]\n",
                  " [1.  0.  0.  0.  0.  0. ]\n",
                  " [0.  1.  0.  0.  0.  0. ]\n",
                  " [1.  0.  0.  0.  0.  0. ]\n",
                  " [0.  1.  0.  0.  0.  0. ]\n",
                  " [0.  1.  0.  0.  0.  0. ]\n",
                  " [0.  0.  0.  0.  0.  1. ]\n",
                  " [0.  1.  0.  0.  0.  0. ]\n",
                  " [1.  0.  0.  0.  0.  0. ]\n",
                  " [0.  1.  0.  0.  0.  0. ]\n",
                  " [1.  0.  0.  0.  0.  0. ]\n",
                  " [0.  1.  0.  0.  0.  0. ]\n",
                  " [1.  0.  0.  0.  0.  0. ]\n",
                  " [0.  1.  0.  0.  0.  0. ]\n",
                  " [0.  1.  0.  0.  0.  0. ]\n",
                  " [0.  0.  0.  0.  1.  0. ]\n",
                  " [0.  0.  0.  0.  0.8 0.2]\n",
                  " [0.  1.  0.  0.  0.  0. ]\n",
                  " [1.  0.  0.  0.  0.  0. ]\n",
                  " [1.  0.  0.  0.  0.  0. ]\n",
                  " [0.  1.  0.  0.  0.  0. ]\n",
                  " [0.  0.  0.  0.6 0.4 0. ]\n",
                  " [0.  1.  0.  0.  0.  0. ]\n",
                  " [0.  0.8 0.2 0.  0.  0. ]\n",
                  " [1.  0.  0.  0.  0.  0. ]\n",
                  " [1.  0.  0.  0.  0.  0. ]\n",
                  " [0.  0.  0.6 0.4 0.  0. ]\n",
                  " [0.  0.  0.  0.  0.  1. ]\n",
                  " [0.  0.  0.  0.  0.  1. ]\n",
                  " [0.  0.  0.  0.  0.  1. ]\n",
                  " [0.  1.  0.  0.  0.  0. ]]\n"
               ]
            },
            {
               "data": {
                  "text/html": [
                     "<table>\n",
                     "<thead>\n",
                     "<tr><th>Trial  </th><th style=\"text-align: right;\">  Training Accuracy</th><th style=\"text-align: right;\">  Test Accuracy</th><th style=\"text-align: right;\">  P_Value</th></tr>\n",
                     "</thead>\n",
                     "<tbody>\n",
                     "<tr><td>1      </td><td style=\"text-align: right;\">           1       </td><td style=\"text-align: right;\">       0.930233</td><td style=\"text-align: right;\">         </td></tr>\n",
                     "<tr><td>2      </td><td style=\"text-align: right;\">           0.982456</td><td style=\"text-align: right;\">       1       </td><td style=\"text-align: right;\">         </td></tr>\n",
                     "<tr><td>3      </td><td style=\"text-align: right;\">           0.994152</td><td style=\"text-align: right;\">       0.976744</td><td style=\"text-align: right;\">         </td></tr>\n",
                     "<tr><td>4      </td><td style=\"text-align: right;\">           0.988304</td><td style=\"text-align: right;\">       0.953488</td><td style=\"text-align: right;\">         </td></tr>\n",
                     "<tr><td>5      </td><td style=\"text-align: right;\">           0.988304</td><td style=\"text-align: right;\">       0.953488</td><td style=\"text-align: right;\">         </td></tr>\n",
                     "<tr><td>6      </td><td style=\"text-align: right;\">           0.994152</td><td style=\"text-align: right;\">       0.976744</td><td style=\"text-align: right;\">         </td></tr>\n",
                     "<tr><td>7      </td><td style=\"text-align: right;\">           0.982456</td><td style=\"text-align: right;\">       0.976744</td><td style=\"text-align: right;\">         </td></tr>\n",
                     "<tr><td>8      </td><td style=\"text-align: right;\">           0.97076 </td><td style=\"text-align: right;\">       1       </td><td style=\"text-align: right;\">         </td></tr>\n",
                     "<tr><td>9      </td><td style=\"text-align: right;\">           0.982456</td><td style=\"text-align: right;\">       0.976744</td><td style=\"text-align: right;\">         </td></tr>\n",
                     "<tr><td>10     </td><td style=\"text-align: right;\">           0.988304</td><td style=\"text-align: right;\">       0.976744</td><td style=\"text-align: right;\">         </td></tr>\n",
                     "<tr><td>Average</td><td style=\"text-align: right;\">           0.987135</td><td style=\"text-align: right;\">       0.972093</td><td style=\"text-align: right;\">        2</td></tr>\n",
                     "</tbody>\n",
                     "</table>"
                  ],
                  "text/plain": [
                     "<IPython.core.display.HTML object>"
                  ]
               },
               "metadata": {},
               "output_type": "display_data"
            },
            {
               "name": "stdout",
               "output_type": "stream",
               "text": [
                  "Output probabilities for a test set: [[0.  1.  0.  0.  0.  0. ]\n",
                  " [0.  0.  0.  0.  1.  0. ]\n",
                  " [1.  0.  0.  0.  0.  0. ]\n",
                  " [0.  1.  0.  0.  0.  0. ]\n",
                  " [0.  0.  0.  0.  0.  1. ]\n",
                  " [0.  1.  0.  0.  0.  0. ]\n",
                  " [1.  0.  0.  0.  0.  0. ]\n",
                  " [0.  1.  0.  0.  0.  0. ]\n",
                  " [0.  0.  1.  0.  0.  0. ]\n",
                  " [1.  0.  0.  0.  0.  0. ]\n",
                  " [1.  0.  0.  0.  0.  0. ]\n",
                  " [0.  1.  0.  0.  0.  0. ]\n",
                  " [0.  0.  0.  0.  0.  1. ]\n",
                  " [1.  0.  0.  0.  0.  0. ]\n",
                  " [0.  1.  0.  0.  0.  0. ]\n",
                  " [1.  0.  0.  0.  0.  0. ]\n",
                  " [0.  1.  0.  0.  0.  0. ]\n",
                  " [0.  1.  0.  0.  0.  0. ]\n",
                  " [0.  0.  0.  0.  0.  1. ]\n",
                  " [0.  1.  0.  0.  0.  0. ]\n",
                  " [1.  0.  0.  0.  0.  0. ]\n",
                  " [0.  1.  0.  0.  0.  0. ]\n",
                  " [1.  0.  0.  0.  0.  0. ]\n",
                  " [0.  1.  0.  0.  0.  0. ]\n",
                  " [1.  0.  0.  0.  0.  0. ]\n",
                  " [0.  1.  0.  0.  0.  0. ]\n",
                  " [0.  1.  0.  0.  0.  0. ]\n",
                  " [0.  0.  0.  0.  1.  0. ]\n",
                  " [0.  0.  0.  0.  1.  0. ]\n",
                  " [0.  1.  0.  0.  0.  0. ]\n",
                  " [1.  0.  0.  0.  0.  0. ]\n",
                  " [1.  0.  0.  0.  0.  0. ]\n",
                  " [0.  1.  0.  0.  0.  0. ]\n",
                  " [0.  0.  0.  0.4 0.6 0. ]\n",
                  " [0.  1.  0.  0.  0.  0. ]\n",
                  " [0.  1.  0.  0.  0.  0. ]\n",
                  " [1.  0.  0.  0.  0.  0. ]\n",
                  " [1.  0.  0.  0.  0.  0. ]\n",
                  " [0.  0.  0.6 0.4 0.  0. ]\n",
                  " [0.  0.  0.  0.  0.  1. ]\n",
                  " [0.  0.  0.  0.  0.  1. ]\n",
                  " [0.  0.  0.  0.  0.  1. ]\n",
                  " [0.  1.  0.  0.  0.  0. ]]\n"
               ]
            }
         ],
         "source": [
            "from IPython.display import HTML, display\n",
            "from tabulate import tabulate\n",
            "\n",
            "# Learn the glass data\n",
            "glass_df = pd.read_csv(\"glass.data\")\n",
            "\n",
            "#extract features X and target variables y\n",
            "X_glass = glass_df.drop('type', axis=1)\n",
            "y_glass = glass_df['type']\n",
            "\n",
            "clf = KNeighborsClassifier()\n",
            "\n",
            "def analyze_model(clf: KNeighborsClassifier, p_value):\n",
            "    table = []\n",
            "    avg_test_acc = 0\n",
            "    avg_train_acc = 0\n",
            "\n",
            "    clf.set_params(p=p_value)\n",
            "    for i in range (0,10):\n",
            "        X_train, X_test, y_train, y_test = train_test_split(X_glass, y_glass, test_size=0.2, shuffle=True)\n",
            "        clf.fit(X_train, y_train) \n",
            "        \n",
            "        table.append([i+1, clf.score(X_train, y_train), clf.score(X_test, y_test)])\n",
            "        avg_train_acc += clf.score(X_train, y_train)\n",
            "        avg_test_acc += clf.score(X_test, y_test)\n",
            "        \n",
            "    avg_train_acc = avg_train_acc/10\n",
            "    avg_test_acc = avg_test_acc/10\n",
            "\n",
            "    #print averages\n",
            "    table.append([\"Average\", avg_train_acc, avg_test_acc, p_value])\n",
            "    headers = [\"Trial\", \"Training Accuracy\", \"Test Accuracy\", \"P_Value\"]\n",
            "    display(HTML(tabulate(table, headers=headers, tablefmt='html')))\n",
            "\n",
            "X_train, X_test, y_train, y_test = train_test_split(X_glass, y_glass, test_size=0.2, shuffle=True)\n",
            "clf.fit(X_train, y_train) \n",
            "\n",
            "analyze_model(clf, 1.0)\n",
            "clf.set_params(p=1.0)\n",
            "print(\"Output probabilities for a test set: \" + str(clf.predict_proba(X_test)))\n",
            "\n",
            "analyze_model(clf, 1.2)\n",
            "clf.set_params(p=1.2)\n",
            "print(\"Output probabilities for a test set: \" + str(clf.predict_proba(X_test)))\n",
            "\n",
            "analyze_model(clf, 1.4)\n",
            "clf.set_params(p=1.4)\n",
            "print(\"Output probabilities for a test set: \" + str(clf.predict_proba(X_test)))\n",
            "\n",
            "analyze_model(clf, 1.6)\n",
            "clf.set_params(p=1.6)\n",
            "print(\"Output probabilities for a test set: \" + str(clf.predict_proba(X_test)))\n",
            "\n",
            "analyze_model(clf, 1.8)\n",
            "clf.set_params(p=1.8)\n",
            "print(\"Output probabilities for a test set: \" + str(clf.predict_proba(X_test)))\n",
            "\n",
            "analyze_model(clf, 2.0)\n",
            "clf.set_params(p=2.0)\n",
            "print(\"Output probabilities for a test set: \" + str(clf.predict_proba(X_test)))"
         ]
      },
      {
         "cell_type": "markdown",
         "metadata": {},
         "source": [
            "Discussion: The test accuracies were generally highest with a Minkowskian exponent of around 1.0 or 1.2. In the tests that I ran above, the average test set accuracy for a Minkowskian exponent of 1.0 was 0.988372, while for an exponent of 1.2 it was 0.97907. This makes sense because the Minkowskian exponent is a metric that shifts how the distance is measured, with 1.0 being Manhatten distance (which is generally more robust to noise), and 2.0 being Euclidean distance, which gives extra weight to outliers and noise, and so is not as robust. The output probabilities were also interesting to compare. There were often split output probabilities that two or three of the models would agree on, while the others would not. My hypothesis is that this is just a question of how the math boils down for each measurement of distance. Because the Minkowskian exponent is different for each model, there will naturally be some measurements of distance that will turn out differently for some models than for others."
         ]
      },
      {
         "cell_type": "markdown",
         "metadata": {
            "id": "9vWiTdlbR2Xh"
         },
         "source": [
            "## 2 KNN Classification with normalization and distance weighting\n",
            "\n",
            "Use the [magic telescope](https://axon.cs.byu.edu/data/uci_class/MagicTelescope.arff) dataset\n",
            "\n",
            "### 2.1 (5%) - Without Normalization or Distance Weighting\n",
            "- Do random 80/20 train/test splits each time\n",
            "- Run with k=3 and *without* distance weighting and *without* normalization\n",
            "- Show train and test set accuracy"
         ]
      },
      {
         "cell_type": "code",
         "execution_count": 3,
         "metadata": {
            "id": "4SSoasDQSKXb"
         },
         "outputs": [
            {
               "data": {
                  "text/html": [
                     "<table>\n",
                     "<thead>\n",
                     "<tr><th style=\"text-align: right;\">  Training Accuracy</th><th style=\"text-align: right;\">  Test Accuracy</th></tr>\n",
                     "</thead>\n",
                     "<tbody>\n",
                     "<tr><td style=\"text-align: right;\">           0.883872</td><td style=\"text-align: right;\">       0.806782</td></tr>\n",
                     "</tbody>\n",
                     "</table>"
                  ],
                  "text/plain": [
                     "<IPython.core.display.HTML object>"
                  ]
               },
               "metadata": {},
               "output_type": "display_data"
            }
         ],
         "source": [
            "# Learn magic telescope data\n",
            "telescope_data = arff.loadarff('telescope.arff')\n",
            "telescope_df = pd.DataFrame(telescope_data[0])\n",
            "\n",
            "X_telescope = telescope_df.drop('class:', axis=1)\n",
            "y_telescope = telescope_df['class:']\n",
            "y_telescope = pd.get_dummies(y_telescope)\n",
            "\n",
            "clf = KNeighborsClassifier(weights='uniform', n_neighbors=3)\n",
            "\n",
            "table = []\n",
            "\n",
            "X_train, X_test, y_train, y_test = train_test_split(X_telescope, y_telescope, test_size=0.2, shuffle=True)\n",
            "clf.fit(X_train, y_train)\n",
            "        \n",
            "table.append([clf.score(X_train, y_train), clf.score(X_test, y_test)])\n",
            "headers = [\"Training Accuracy\", \"Test Accuracy\"]\n",
            "display(HTML(tabulate(table, headers=headers, tablefmt='html')))"
         ]
      },
      {
         "cell_type": "markdown",
         "metadata": {},
         "source": [
            "*Discussion* This model had a fairly low test accuracy score of around .8, which is not surprising to me. Our k value is fairly low, and we are running this without distance weighting, which means that the three closest points are being considered equally, regardless of how far away they may be. Our data is also not normalized. This means that large-scale numerical features (such as the attribute fDist, which ranges into the hundreds) have a very significant effect on our calculations of distance, while our small-scale features have next to no effect on distance. This means that if a small-scale feature is more indicative than a large-scale feature, it will still not be considered in the classification of a point, because the nearest neighbors will be those that have the smallest distance in the large-scale features only."
         ]
      },
      {
         "cell_type": "markdown",
         "metadata": {},
         "source": [
            "### 2.2 (10%) With Normalization\n",
            "- Try it with k=3 without distance weighting but *with* normalization of input features.  You may use any reasonable normalization approach (e.g. standard min-max normalization between 0-1, z-transform, etc.)"
         ]
      },
      {
         "cell_type": "code",
         "execution_count": null,
         "metadata": {},
         "outputs": [
            {
               "data": {
                  "text/html": [
                     "<table>\n",
                     "<thead>\n",
                     "<tr><th style=\"text-align: right;\">  Training Accuracy</th><th style=\"text-align: right;\">  Test Accuracy</th></tr>\n",
                     "</thead>\n",
                     "<tbody>\n",
                     "<tr><td style=\"text-align: right;\">            0.74816</td><td style=\"text-align: right;\">       0.751314</td></tr>\n",
                     "</tbody>\n",
                     "</table>"
                  ],
                  "text/plain": [
                     "<IPython.core.display.HTML object>"
                  ]
               },
               "metadata": {},
               "output_type": "display_data"
            }
         ],
         "source": [
            "from sklearn.preprocessing import MinMaxScaler\n",
            "\n",
            "# Train/Predict with normalization\n",
            "scaler = MinMaxScaler()\n",
            "X_normalized = scaler.fit_transform(X_telescope)\n",
            "\n",
            "table = []\n",
            "X_train, X_test, y_train, y_test = train_test_split(X_normalized, y_telescope, test_size=0.2, shuffle=True)\n",
            "clf.fit(X_train, y_train)\n",
            "        \n",
            "table.append([clf.score(X_train, y_train), clf.score(X_test, y_test)])\n",
            "headers = [\"Training Accuracy\", \"Test Accuracy\"]\n",
            "display(HTML(tabulate(table, headers=headers, tablefmt='html')))\n"
         ]
      },
      {
         "cell_type": "markdown",
         "metadata": {},
         "source": [
            "*Discuss the results of using normalized data vs. unnormalized data* Normalizing the data did increase the test set accuracy from around .8 to about .83. However, this is a much smaller improvement than I would have expected, given how large some of the features in the telescope are measured. My assumption is that the improvement was relatively small because the originally large-scaled features in the dataset were highly indicative of class, or because the combination of the small-scaled features and large-scaled features still led to the same nearest neighbors being picked. This means that even when the small-scaled features got a more even influence on the distance between points, it did not greatly change the way that the distances were calculated, and the nearest neighbors chosen resulted in about the same accuracy of classification."
         ]
      },
      {
         "cell_type": "markdown",
         "metadata": {},
         "source": [
            "### 2.3 (10%) With Distance Weighting\n",
            "- Try it with k=3 and with distance weighting *and* normalization"
         ]
      },
      {
         "cell_type": "code",
         "execution_count": 12,
         "metadata": {},
         "outputs": [
            {
               "data": {
                  "text/html": [
                     "<table>\n",
                     "<thead>\n",
                     "<tr><th style=\"text-align: right;\">  Training Accuracy</th><th style=\"text-align: right;\">  Test Accuracy</th></tr>\n",
                     "</thead>\n",
                     "<tbody>\n",
                     "<tr><td style=\"text-align: right;\">           0.717206</td><td style=\"text-align: right;\">       0.712934</td></tr>\n",
                     "</tbody>\n",
                     "</table>"
                  ],
                  "text/plain": [
                     "<IPython.core.display.HTML object>"
                  ]
               },
               "metadata": {},
               "output_type": "display_data"
            }
         ],
         "source": [
            "#Train/Predict with normalization and distance weighting\n",
            "table = []\n",
            "clf.set_params(n_neighbors=3, weights='distance')\n",
            "clf.fit(X_train, y_train)\n",
            "        \n",
            "table.append([clf.score(X_train, y_train), clf.score(X_test, y_test)])\n",
            "headers = [\"Training Accuracy\", \"Test Accuracy\"]\n",
            "display(HTML(tabulate(table, headers=headers, tablefmt='html')))"
         ]
      },
      {
         "cell_type": "markdown",
         "metadata": {},
         "source": [
            "Comparison and Discussion: The model is getting the exact same accuracy as the model with the normalization but without this distance weighting. Although it is possible that the points classified correctly are different points from those classified correctly by the model that just used normalization, I find this unlikely. The models are k=3 models, which means there would need to be at least 2 neighbors that contribute to any misclassification. Unless there is a fairly large difference in the distances of the misclassifying neighbors and the distance of any correctly classifying neighbor, with the misclassifying neighbors being much further from the point of interest than the correctly classifying neighbor, the misclassifying points will have more influence, as there are more of them at a roughly similar distance as the correctly classifying point."
         ]
      },
      {
         "cell_type": "markdown",
         "metadata": {},
         "source": [
            "### 2.4 (10%) Different k Values\n",
            "- Using your normalized data with distance weighting, create one graph with classification accuracy on the test set on the y-axis and k values on the x-axis.\n",
            "- Use values of k from 1 to 15.  Use the same train/test split for each. "
         ]
      },
      {
         "cell_type": "code",
         "execution_count": 13,
         "metadata": {},
         "outputs": [],
         "source": [
            "# Calculate and Graph classification accuracy vs k values\n",
            "X_train, X_test, y_train, y_test = train_test_split(X_normalized, y_telescope, test_size=0.2, shuffle=True)\n",
            "\n",
            "accuracies = []\n",
            "k_values = []\n",
            "\n",
            "for i in range(0, 15):\n",
            "    k = i + 1\n",
            "    clf.set_params(n_neighbors=k, weights='distance')\n",
            "    clf.fit(X_train, y_train)\n",
            "    k_values.append(k)\n",
            "    accuracies.append(clf.score(X_test, y_test))\n",
            "\n",
            "plt.plot(k_values, accuracies, label='K-Value vs Accuracy')\n",
            "plt.title(\"K-Value vs Accuracy\")\n",
            "plt.xlabel(\"K-Value\")\n",
            "plt.ylabel(\"Accuracy\")\n",
            "plt.show()"
         ]
      },
      {
         "cell_type": "markdown",
         "metadata": {},
         "source": [
            "*Discussion*: The accuracy generally improved as more nearest neighbors were taken into account, with the k=15 model getting the highest accuracy score of around .848. However, this is still a fairly low score, which can be explained in a couple different ways. The dataset could have a feature or multiple features that are not indicative of class. These features will still be taken into account in equal measure with the features that are indicative of class, which could cause dissimilar points to be nearest neighbors with one another, leading to misclassification. Another factor in the low accuracy could be a large number of noisy datapoints or outliers, which can act as misclassifying nearest neighbors that contribute to a low classification accuracy for the model as an overall whole."
         ]
      },
      {
         "cell_type": "markdown",
         "metadata": {
            "id": "SIRG42TgSR4x"
         },
         "source": [
            "## 3 KNN Regression with normalization and distance weighting\n",
            "\n",
            "Use the [sklean KNeighborsRegressor](https://scikit-learn.org/stable/modules/generated/sklearn.neighbors.KNeighborsRegressor.html#sklearn.neighbors.KNeighborsRegressor) on the [housing price prediction](https://axon.cs.byu.edu/data/uci_regression/housing.arff) problem.  \n",
            "### 3.1 (5%) Ethical Data\n",
            "Note this data set has an example of an inappropriate input feature which we discussed.  State which feature is inappropriate and discuss why."
         ]
      },
      {
         "cell_type": "markdown",
         "metadata": {},
         "source": [
            "*Discuss the innapropriate feature*: The feature B is an inappropriate input feature that measures the proportion of black people that live in the area of the house of interest. This feature is inappropriate for a number of reasons, and can have extremely negative impacts in the ethicality of the model. The feature is inappropriate because it may cause the model to pick up on and adopt racist beliefs or methodologies that are unethical and should not have any practical influence on the price of a house. If a model trained on this feature is used in an official capacity, it has the potential to increase divisions of racism and classism, and could have immoral effects on the socio-economic makeup of an area due to race."
         ]
      },
      {
         "cell_type": "markdown",
         "metadata": {},
         "source": [
            "### 3.2 (15%) - KNN Regression \n",
            "- Do random 80/20 train/test splits each time\n",
            "- Run with k=3\n",
            "- Print the score (coefficient of determination) and Mean Absolute Error (MAE) for the train and test set for the cases of\n",
            "  - No input normalization and no distance weighting\n",
            "  - Normalization and no distance weighting\n",
            "  - Normalization and distance weighting\n",
            "- Normalize inputs features where needed but do not normalize the output"
         ]
      },
      {
         "cell_type": "code",
         "execution_count": 7,
         "metadata": {
            "id": "KBGUn43ASiXW"
         },
         "outputs": [
            {
               "data": {
                  "text/html": [
                     "<table>\n",
                     "<thead>\n",
                     "<tr><th>Type                          </th><th style=\"text-align: right;\">  Train Score</th><th style=\"text-align: right;\">  Test Score</th><th style=\"text-align: right;\">  Training MAE</th><th style=\"text-align: right;\">  Testing MAE</th></tr>\n",
                     "</thead>\n",
                     "<tbody>\n",
                     "<tr><td>No Normalization or Weighting </td><td style=\"text-align: right;\">     0.789699</td><td style=\"text-align: right;\">    0.442946</td><td style=\"text-align: right;\">       2.86403</td><td style=\"text-align: right;\">      4.22255</td></tr>\n",
                     "<tr><td>Normalization and No Weighting</td><td style=\"text-align: right;\">     0.863173</td><td style=\"text-align: right;\">    0.818203</td><td style=\"text-align: right;\">       2.14414</td><td style=\"text-align: right;\">      2.48137</td></tr>\n",
                     "<tr><td>Normalization and Weighting   </td><td style=\"text-align: right;\">     1       </td><td style=\"text-align: right;\">    0.810992</td><td style=\"text-align: right;\">       0      </td><td style=\"text-align: right;\">      2.71769</td></tr>\n",
                     "</tbody>\n",
                     "</table>"
                  ],
                  "text/plain": [
                     "<IPython.core.display.HTML object>"
                  ]
               },
               "metadata": {},
               "output_type": "display_data"
            }
         ],
         "source": [
            "from sklearn.metrics import mean_absolute_error\n",
            "\n",
            "# Learn and experiment with housing price prediction data\n",
            "housing_data = arff.loadarff('housing.arff')\n",
            "housing_df = pd.DataFrame(housing_data[0])\n",
            "X_housing = housing_df.drop('MEDV', axis=1)\n",
            "y_housing = housing_df['MEDV']\n",
            "\n",
            "table = []\n",
            "\n",
            "def train_model(type, X, y, table:list, param='uniform') -> list:\n",
            "    reg = KNeighborsRegressor(n_neighbors=3, weights=param)\n",
            "    X_train, X_test, y_train, y_test = train_test_split(X, y, test_size=0.2, shuffle=True)\n",
            "    reg.fit(X_train, y_train)\n",
            "    y_train_pred = reg.predict(X_train)\n",
            "    y_test_pred = reg.predict(X_test)\n",
            "    table.append([type, reg.score(X_train, y_train), reg.score(X_test, y_test), mean_absolute_error(y_train, y_train_pred), mean_absolute_error(y_test, y_test_pred)])\n",
            "    return table\n",
            "\n",
            "table = train_model(\"No Normalization or Weighting\", X_housing, y_housing, table)\n",
            "\n",
            "scaler = MinMaxScaler()\n",
            "X_normalized = scaler.fit_transform(X_housing)\n",
            "table = train_model(\"Normalization and No Weighting\", X_normalized, y_housing, table)\n",
            "\n",
            "table = train_model(\"Normalization and Weighting\", X_normalized, y_housing, table, 'distance')\n",
            "\n",
            "\n",
            "headers = [\"Type\", \"Train Score\", \"Test Score\", \"Training MAE\", \"Testing MAE\"]\n",
            "display(HTML(tabulate(table, headers=headers, tablefmt='html')))"
         ]
      },
      {
         "cell_type": "markdown",
         "metadata": {},
         "source": [
            "*Discuss your results*"
         ]
      },
      {
         "cell_type": "markdown",
         "metadata": {},
         "source": [
            "### 3.3 (10%)  Different k Values\n",
            "- Using housing with normalized data and distance weighting, create one graph with MAE on the test set on the y-axis and k values on the x-axis\n",
            "- Use values of k from 1 to 15.  Use the same train/test split for each. "
         ]
      },
      {
         "cell_type": "code",
         "execution_count": 8,
         "metadata": {},
         "outputs": [
            {
               "data": {
                  "image/png": "[encoded data removed]",
                  "text/plain": [
                     "<Figure size 640x480 with 1 Axes>"
                  ]
               },
               "metadata": {},
               "output_type": "display_data"
            }
         ],
         "source": [
            "# Learn and graph for different k values\n",
            "X_train, X_test, y_train, y_test = train_test_split(X_normalized, y_housing, test_size=0.2, shuffle=True)\n",
            "reg = KNeighborsRegressor(n_neighbors=3, weights='distance')\n",
            "\n",
            "accuracies = []\n",
            "k_values = []\n",
            "\n",
            "for i in range(0, 15):\n",
            "    k = i + 1\n",
            "    reg.set_params(n_neighbors=k)\n",
            "    reg.fit(X_train, y_train)\n",
            "    y_test_pred = reg.predict(X_test)\n",
            "    k_values.append(k)\n",
            "    accuracies.append(mean_absolute_error(y_test, y_test_pred))\n",
            "\n",
            "plt.plot(k_values, accuracies, label='MAE vs. K-Value')\n",
            "plt.title(\"MAE vs. K-Value\")\n",
            "plt.xlabel(\"MAE\")\n",
            "plt.ylabel(\"K-Value\")\n",
            "plt.show()"
         ]
      },
      {
         "cell_type": "markdown",
         "metadata": {},
         "source": [
            "Discussion"
         ]
      },
      {
         "cell_type": "markdown",
         "metadata": {},
         "source": [
            "## 4. (20%) KNN with nominal and real data\n",
            "\n",
            "- Use the [lymph dataset](https://axon.cs.byu.edu/data/uci_class/lymph.arff)\n",
            "- Use a 80/20 split of the data for the training/test set\n",
            "- This dataset has both continuous and nominal attributes \n",
            "- Implement a distance metric which uses Euclidean distance for continuous features and 0/1 distance for nominal. Hints:\n",
            "    - Write your own distance function (e.g. mydist) and use clf = KNeighborsClassifier(metric=mydist)\n",
            "    - Change the nominal features in the data set to integer values since KNeighborsClassifier expects numeric features. I used Label_Encoder on the nominal features.\n",
            "    - Keep a list of which features are nominal which mydist can use to decide which distance measure to use\n",
            "    - There was an occasional bug in SK version 1.3.0 (\"Flags object has no attribute 'c_contiguous'\") that went away when I upgraded to the lastest SK version 1.3.1 \n",
            "- Use your own choice for k and other parameters"
         ]
      },
      {
         "cell_type": "code",
         "execution_count": 9,
         "metadata": {},
         "outputs": [
            {
               "data": {
                  "text/html": [
                     "<table>\n",
                     "<thead>\n",
                     "<tr><th style=\"text-align: right;\">  Train Score</th><th style=\"text-align: right;\">  Test Score</th><th style=\"text-align: right;\">  Training MAE</th><th style=\"text-align: right;\">  Testing MAE</th></tr>\n",
                     "</thead>\n",
                     "<tbody>\n",
                     "<tr><td style=\"text-align: right;\">     0.559322</td><td style=\"text-align: right;\">         0.6</td><td style=\"text-align: right;\">      0.440678</td><td style=\"text-align: right;\">     0.433333</td></tr>\n",
                     "</tbody>\n",
                     "</table>"
                  ],
                  "text/plain": [
                     "<IPython.core.display.HTML object>"
                  ]
               },
               "metadata": {},
               "output_type": "display_data"
            }
         ],
         "source": [
            "from sklearn.preprocessing import LabelEncoder\n",
            "# Train/Predict lymph with your own distance metric\n",
            "lymph_data = arff.loadarff('lymph.arff')\n",
            "lymph_df = pd.DataFrame(lymph_data[0])\n",
            "X_lymph = lymph_df.drop('class', axis=1)\n",
            "y_lymph = lymph_df['class']\n",
            "\n",
            "nominal_features = ['lymphatics','block_of_affere', 'bl_of_lymph_c', 'bl_of_lymph_s', 'by_pass', 'extravasates', 'regeneration_of', 'early_uptake_in', 'changes_in_lym', 'defect_in_node', 'changes_in_node', 'changes_in_stru', 'special_forms', 'dislocation_of', 'exclusion_of_no']\n",
            "nominal_indices = []\n",
            "encoder = LabelEncoder()\n",
            "\n",
            "y_lymph = encoder.fit_transform(y_lymph)\n",
            "for feature in nominal_features:\n",
            "    X_lymph[feature] = encoder.fit_transform(X_lymph[feature])\n",
            "    nominal_indices.append(lymph_df.columns.get_loc(feature))\n",
            "\n",
            "    \n",
            "def mydist(point_1, point_2):\n",
            "    distance = 0.0\n",
            "    for feature in range(len(point_1)):\n",
            "        if feature in nominal_indices:\n",
            "            distance += int(point_1[feature] == point_2[feature])\n",
            "        else:\n",
            "            distance += (point_1[feature] - point_2[feature])**2\n",
            "    finished_euclidean_distance = np.sqrt(distance)\n",
            "    return finished_euclidean_distance\n",
            "    \n",
            "clf = KNeighborsClassifier(metric=mydist, n_neighbors=15, weights='distance')\n",
            "X_train, X_test, y_train, y_test = train_test_split(X_lymph, y_lymph, test_size=0.2, shuffle=True)\n",
            "table = []\n",
            "clf.fit(X_train, y_train)\n",
            "y_test_pred = clf.predict(X_test)\n",
            "y_train_pred = clf.predict(X_train)\n",
            "\n",
            "table.append([clf.score(X_train, y_train), clf.score(X_test, y_test), mean_absolute_error(y_train_pred, y_train), mean_absolute_error(y_test_pred, y_test)])\n",
            "\n",
            "headers = [\"Train Score\", \"Test Score\", \"Training MAE\", \"Testing MAE\"]\n",
            "display(HTML(tabulate(table, headers=headers, tablefmt='html')))"
         ]
      },
      {
         "cell_type": "markdown",
         "metadata": {},
         "source": [
            "*Explain your distance metric and discuss your results*"
         ]
      },
      {
         "cell_type": "markdown",
         "metadata": {},
         "source": [
            "## 5. (Optional 15% extra credit) Code up your own KNN Learner \n",
            "Below is a scaffold you could use if you want. Requirements for this task:\n",
            "- Your model should support the methods shown in the example scaffold below\n",
            "- Use Euclidean distance to decide closest neighbors\n",
            "- Implement both the classification and regression versions\n",
            "- Include optional distance weighting for both algorithms\n",
            "- Run your algorithm on the magic telescope and housing data sets above and discuss and compare your results "
         ]
      },
      {
         "cell_type": "markdown",
         "metadata": {},
         "source": [
            "*Discussion*"
         ]
      },
      {
         "cell_type": "code",
         "execution_count": 10,
         "metadata": {},
         "outputs": [],
         "source": [
            "from sklearn.base import BaseEstimator, ClassifierMixin\n",
            "\n",
            "class KNNClassifier(BaseEstimator,ClassifierMixin):\n",
            "    def __init__(self, columntype=[], weight_type='inverse_distance'): ## add parameters here\n",
            "        \n",
            "        \"\"\"\n",
            "        Args:\n",
            "            columntype for each column tells you if continues[real] or if nominal[categoritcal].\n",
            "            weight_type: inverse_distance voting or if non distance weighting. Options = [\"no_weight\",\"inverse_distance\"]\n",
            "        \"\"\"\n",
            "        self.columntype = columntype #Note This won't be needed until part 5\n",
            "        self.weight_type = weight_type\n",
            "        self.X = []\n",
            "        self.y = []\n",
            "\n",
            "    def fit(self, data, labels):\n",
            "        \"\"\" Fit the data; run the algorithm (for this lab really just saves the data :D)\n",
            "        Args:\n",
            "            X (array-like): A 2D numpy array with the training data, excluding targets\n",
            "            y (array-like): A 2D numpy array with the training targets\n",
            "        Returns:\n",
            "            self: this allows this to be chained, e.g. model.fit(X,y).predict(X_test)\n",
            "        \"\"\"\n",
            "        \n",
            "        self.X = data\n",
            "        self.y = labels\n",
            "        return self\n",
            "    \n",
            "    def predict(self, data):\n",
            "        \"\"\" Predict all classes for a dataset X\n",
            "        Args:\n",
            "            X (array-like): A 2D numpy array with the training data, excluding targets\n",
            "        Returns:\n",
            "            array, shape (n_samples,)\n",
            "                Predicted target values per element in X.\n",
            "        \"\"\"\n",
            "        pass\n",
            "\n",
            "    #Returns the Mean score given input data and labels\n",
            "    def score(self, X, y):\n",
            "        \"\"\" Return accuracy of model on a given dataset. Must implement own score function.\n",
            "        Args:\n",
            "            X (array-like): A 2D numpy array with data, excluding targets\n",
            "            y (array-like): A 2D numpy array with targets\n",
            "        Returns:\n",
            "            score : float\n",
            "                Mean accuracy of self.predict(X) wrt. y.\n",
            "        \"\"\"\n",
            "        return 0"
         ]
      }
   ],
   "metadata": {
      "colab": {
         "collapsed_sections": [],
         "name": "lab 1 - perceptron",
         "provenance": []
      },
      "kernelspec": {
         "display_name": "Python 3.10.7 64-bit",
         "language": "python",
         "name": "python3"
      },
      "language_info": {
         "codemirror_mode": {
            "name": "ipython",
            "version": 3
         },
         "file_extension": ".py",
         "mimetype": "text/x-python",
         "name": "python",
         "nbconvert_exporter": "python",
         "pygments_lexer": "ipython3",
         "version": "3.11.6"
      },
      "vscode": {
         "interpreter": {
            "hash": "aee8b7b246df8f9039afb4144a1f6fd8d2ca17a180786b69acc140d282b71a49"
         }
      }
   },
   "nbformat": 4,
   "nbformat_minor": 4
}
